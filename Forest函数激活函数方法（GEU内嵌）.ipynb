{
 "cells": [
  {
   "cell_type": "code",
   "id": "9ff1f7451c096fba",
   "metadata": {
    "collapsed": true,
    "ExecuteTime": {
     "end_time": "2024-10-11T06:43:55.232595Z",
     "start_time": "2024-10-11T06:43:55.215101Z"
    }
   },
   "source": [
    "import random\n",
    "from torchvision import datasets, transforms\n",
    "import torch.optim as optim\n",
    "import torch.nn as nn\n",
    "import pandas as pd\n",
    "import numpy as np\n",
    "import torch\n",
    "from torch.autograd import Variable\n",
    "import torch.nn.functional as F\n",
    "import torch.utils.data as Data\n",
    "import matplotlib.pyplot as plt\n",
    "import math\n",
    "import scienceplots\n",
    "import matplotlib as mpl\n",
    "from tqdm import tqdm\n",
    "import optuna"
   ],
   "outputs": [],
   "execution_count": 7
  },
  {
   "metadata": {
    "ExecuteTime": {
     "end_time": "2024-10-11T06:43:55.623871Z",
     "start_time": "2024-10-11T06:43:55.602830Z"
    }
   },
   "cell_type": "code",
   "source": [
    "\n",
    "SEED = 1234\n",
    "torch.manual_seed(SEED)\n",
    "torch.cuda.manual_seed_all(SEED)\n",
    "np.random.seed(SEED)\n",
    "random.seed(SEED)\n",
    "torch.backends.cudnn.deterministic = True\n",
    "\n",
    "# 定义数据\n",
    "x = torch.unsqueeze(torch.linspace(-2, 10, 19), dim=1)\n",
    "ytrain = np.exp(-(x - 2) ** 2) + np.exp(-(x - 6) ** 2 / 10) + 1 / (x ** 2 + 1) + 0.12 * torch.randn(x.size())\n",
    "\n",
    "\n",
    "class CustomActivation(nn.Module):  # 激活函数含噪声参数\n",
    "    def __init__(self, trial):\n",
    "        super().__init__()\n",
    "        self.sigma = trial.suggest_float(\"sigma\", 0, 10)  # 1个可学习参数 sigma\n",
    "\n",
    "    def forward(self, input):\n",
    "        temp = 1/2 + torch.erf(input / (math.sqrt(2) * self.sigma))/2  # 前向传播\n",
    "        return temp\n",
    "\n",
    "\n",
    "# 定义网络\n",
    "class Net(nn.Module):\n",
    "    def __init__(self, n_feature, n_hidden1, n_output, trial):\n",
    "        super(Net, self).__init__()\n",
    "        self.hidden1 = nn.Linear(n_feature, n_hidden1)  # 全连接层\n",
    "        self.custom1 = CustomActivation(trial)  # 自定义激活函数层\n",
    "        self.predict = nn.Linear(n_hidden1, n_output)  # 输出层\n",
    "\n",
    "    def forward(self, x):\n",
    "        x = self.hidden1(x)\n",
    "        x = self.custom1(x)\n",
    "        x = self.predict(x)  # 前向传播过程\n",
    "        return x\n",
    "\n",
    "    def reset_parameters(self):\n",
    "        self.hidden1.reset_parameters()\n",
    "        self.predict.reset_parameters()\n",
    "\n",
    "\n",
    "device = torch.device('cpu')"
   ],
   "id": "169455ff262faa3f",
   "outputs": [],
   "execution_count": 8
  },
  {
   "metadata": {
    "ExecuteTime": {
     "end_time": "2024-10-11T06:51:44.713361Z",
     "start_time": "2024-10-11T06:43:56.648309Z"
    }
   },
   "cell_type": "code",
   "source": [
    "\n",
    "\n",
    "def objective(trial):\n",
    "    net = Net(n_feature=1, n_hidden1=14, n_output=1, trial=trial).to(device)\n",
    "    optimizer = optim.Adam(net.parameters(), lr=0.01, betas=(0.99, 0.99))\n",
    "    loss_func = torch.nn.MSELoss().to(device)\n",
    "    NJnum = 1\n",
    "    epoch = 15000\n",
    "    train_losses = []\n",
    "\n",
    "    for num in range(NJnum):\n",
    "        seed = random.sample(range(1, 1000), 1)[0]  # 选择一个随机种子\n",
    "        torch.manual_seed(seed)\n",
    "        np.random.seed(seed)\n",
    "        random.seed(seed)\n",
    "\n",
    "        net.reset_parameters()  # 每次实验前重置网络参数\n",
    "\n",
    "        # 训练网络\n",
    "        for _ in range(epoch):\n",
    "            net.train()\n",
    "            prediction = net(x)\n",
    "            loss = loss_func(prediction, ytrain)\n",
    "            optimizer.zero_grad()\n",
    "            loss.backward()\n",
    "            optimizer.step()\n",
    "\n",
    "        train_losses.append(loss.item())  # 记录本次训练的损失值\n",
    "\n",
    "    train_loss = np.mean(train_losses)  # 计算平均训练损失\n",
    "\n",
    "    # 测试阶段\n",
    "    seeds = random.sample(range(1, 1000), 10)\n",
    "    test_losses = []\n",
    "\n",
    "    for seed in seeds:\n",
    "        torch.manual_seed(seed)\n",
    "        np.random.seed(seed)\n",
    "        random.seed(seed)\n",
    "        x_test = torch.unsqueeze(torch.linspace(-2, 10, 30), dim=1)\n",
    "        y_test = np.exp(-(x_test - 2) ** 2) + np.exp(-(x_test - 6) ** 2 / 10) + 1 / (\n",
    "                    x_test ** 2 + 1) + 0.12 * torch.randn(x_test.size())\n",
    "\n",
    "        net.eval()\n",
    "        with torch.no_grad():\n",
    "            prediction_test = net(x_test)\n",
    "            test_loss = loss_func(prediction_test, y_test)\n",
    "            test_losses.append(test_loss.item())\n",
    "\n",
    "    mean_test_loss = np.mean(test_losses)\n",
    "    return mean_test_loss\n",
    "\n",
    "\n",
    "study = optuna.create_study(direction=\"minimize\")\n",
    "study.optimize(objective, n_trials=20)"
   ],
   "id": "2fb8914f9460ecef",
   "outputs": [
    {
     "name": "stderr",
     "output_type": "stream",
     "text": [
      "[I 2024-10-11 14:43:56,659] A new study created in memory with name: no-name-7ab59e92-ebd4-4d22-87fc-3e58410ede7b\n",
      "[I 2024-10-11 14:44:30,201] Trial 0 finished with value: 0.018781430553644896 and parameters: {'sigma': 8.896000845353173}. Best is trial 0 with value: 0.018781430553644896.\n",
      "[I 2024-10-11 14:45:11,956] Trial 1 finished with value: 0.02101924056187272 and parameters: {'sigma': 1.323511228766291}. Best is trial 0 with value: 0.018781430553644896.\n",
      "[I 2024-10-11 14:45:47,085] Trial 2 finished with value: 0.025938696786761285 and parameters: {'sigma': 1.7566905278451461}. Best is trial 0 with value: 0.018781430553644896.\n",
      "[I 2024-10-11 14:46:08,507] Trial 3 finished with value: 0.018425903655588625 and parameters: {'sigma': 4.067359844727557}. Best is trial 3 with value: 0.018425903655588625.\n",
      "[I 2024-10-11 14:46:28,835] Trial 4 finished with value: 0.01987476581707597 and parameters: {'sigma': 2.9341892695444027}. Best is trial 3 with value: 0.018425903655588625.\n",
      "[I 2024-10-11 14:46:51,369] Trial 5 finished with value: 0.01847936026751995 and parameters: {'sigma': 7.579449427367438}. Best is trial 3 with value: 0.018425903655588625.\n",
      "[I 2024-10-11 14:47:11,446] Trial 6 finished with value: 0.04036364424973726 and parameters: {'sigma': 1.0776497739108937}. Best is trial 3 with value: 0.018425903655588625.\n",
      "[I 2024-10-11 14:47:32,209] Trial 7 finished with value: 0.019063015654683112 and parameters: {'sigma': 8.285394947186294}. Best is trial 3 with value: 0.018425903655588625.\n",
      "[I 2024-10-11 14:47:50,266] Trial 8 finished with value: 0.021942173410207034 and parameters: {'sigma': 2.013124454961365}. Best is trial 3 with value: 0.018425903655588625.\n",
      "[I 2024-10-11 14:48:09,926] Trial 9 finished with value: 0.028077966906130312 and parameters: {'sigma': 0.11766662548603701}. Best is trial 3 with value: 0.018425903655588625.\n",
      "[I 2024-10-11 14:48:28,221] Trial 10 finished with value: 0.01814230503514409 and parameters: {'sigma': 5.1525612166799535}. Best is trial 10 with value: 0.01814230503514409.\n",
      "[I 2024-10-11 14:48:51,193] Trial 11 finished with value: 0.017152072768658398 and parameters: {'sigma': 4.877060875951572}. Best is trial 11 with value: 0.017152072768658398.\n",
      "[I 2024-10-11 14:49:14,482] Trial 12 finished with value: 0.018837153166532516 and parameters: {'sigma': 6.171177954424284}. Best is trial 11 with value: 0.017152072768658398.\n",
      "[I 2024-10-11 14:49:33,674] Trial 13 finished with value: 0.015392088750377297 and parameters: {'sigma': 5.6566977648877765}. Best is trial 13 with value: 0.015392088750377297.\n",
      "[I 2024-10-11 14:49:54,359] Trial 14 finished with value: 0.020701090805232525 and parameters: {'sigma': 6.556061960373177}. Best is trial 13 with value: 0.015392088750377297.\n",
      "[I 2024-10-11 14:50:13,934] Trial 15 finished with value: 0.018134537059813736 and parameters: {'sigma': 4.344001781972494}. Best is trial 13 with value: 0.015392088750377297.\n",
      "[I 2024-10-11 14:50:36,477] Trial 16 finished with value: 0.01722965370863676 and parameters: {'sigma': 9.922420056641176}. Best is trial 13 with value: 0.015392088750377297.\n",
      "[I 2024-10-11 14:50:58,793] Trial 17 finished with value: 0.026347748190164565 and parameters: {'sigma': 5.619313500784248}. Best is trial 13 with value: 0.015392088750377297.\n",
      "[I 2024-10-11 14:51:22,824] Trial 18 finished with value: 0.02401395868510008 and parameters: {'sigma': 3.5280240994717236}. Best is trial 13 with value: 0.015392088750377297.\n",
      "[I 2024-10-11 14:51:44,696] Trial 19 finished with value: 0.018461281433701515 and parameters: {'sigma': 6.952065813206269}. Best is trial 13 with value: 0.015392088750377297.\n"
     ]
    }
   ],
   "execution_count": 9
  },
  {
   "metadata": {
    "ExecuteTime": {
     "end_time": "2024-10-11T06:51:44.728636Z",
     "start_time": "2024-10-11T06:51:44.718035Z"
    }
   },
   "cell_type": "code",
   "source": [
    "\n",
    "# 获取最佳 sigma 值\n",
    "best_sigma = study.best_params[\"sigma\"]\n",
    "print(\"Best sigma:\", best_sigma)"
   ],
   "id": "89486a212295f11d",
   "outputs": [
    {
     "name": "stdout",
     "output_type": "stream",
     "text": [
      "Best sigma: 5.6566977648877765\n"
     ]
    }
   ],
   "execution_count": 10
  },
  {
   "metadata": {
    "ExecuteTime": {
     "end_time": "2024-10-11T06:58:23.393139Z",
     "start_time": "2024-10-11T06:58:12.121990Z"
    }
   },
   "cell_type": "code",
   "source": [
    "class CustomActivation(nn.Module):  # 激活函数含噪声参数\n",
    "    def __init__(self, sigma):\n",
    "        super().__init__()\n",
    "        self.sigma = sigma\n",
    "\n",
    "    def forward(self, input):\n",
    "        temp = 1/2 + torch.erf(input / (math.sqrt(2) * self.sigma))/2   # 前向传播\n",
    "        return temp\n",
    "\n",
    "\n",
    "class Net(nn.Module):  # 定义网络\n",
    "    def __init__(self, n_feature, n_hidden1, n_output, sigma):\n",
    "        super(Net, self).__init__()\n",
    "        self.hidden1 = nn.Linear(n_feature, n_hidden1)  # 全连接层\n",
    "        self.custom1 = CustomActivation(sigma)  # 自定义激活函数层\n",
    "        self.predict = nn.Linear(n_hidden1, n_output)  # 输出层\n",
    "\n",
    "    def forward(self, x):\n",
    "        x = self.hidden1(x)\n",
    "        x = self.custom1(x)\n",
    "        x = self.predict(x)  # 前向传播过程\n",
    "        return x\n",
    "\n",
    "    def reset_parameters(self):\n",
    "        self.hidden1.reset_parameters()\n",
    "        self.predict.reset_parameters()\n",
    "\n",
    "\n",
    "device = torch.device('cpu')\n",
    "net = Net(n_feature=1, n_hidden1=14, n_output=1, sigma=best_sigma)\n",
    "optimizer = optim.Adam(net.parameters(), lr=0.01, betas=(0.99, 0.99))\n",
    "loss_func = torch.nn.MSELoss().to(device)\n",
    "\n",
    "NJnum = 1\n",
    "epoch = 15000\n",
    "x_respond = torch.unsqueeze(torch.linspace(-2, 10, 300), dim=1)\n",
    "\n",
    "train_losses = []\n",
    "responses = []\n",
    "\n",
    "# 训练循环\n",
    "for num in range(NJnum):\n",
    "    seed = random.sample(range(1, 10000), 1)[0]\n",
    "    torch.manual_seed(seed)\n",
    "    np.random.seed(seed)\n",
    "    random.seed(seed)\n",
    "\n",
    "    net.reset_parameters()\n",
    "\n",
    "    for _ in range(epoch):\n",
    "        net.train()\n",
    "        prediction = net(x)\n",
    "        loss = loss_func(prediction, ytrain)\n",
    "        optimizer.zero_grad()\n",
    "        loss.backward()\n",
    "        optimizer.step()\n",
    "\n",
    "    train_losses.append(loss.item())\n",
    "\n",
    "    net.eval()\n",
    "    with torch.no_grad():\n",
    "        response = net(x_respond)\n",
    "        responses.append(response.numpy())\n",
    "\n",
    "mean_train_loss = np.mean(train_losses)\n",
    "mean_response = np.mean(responses, axis=0)\n",
    "\n",
    "# 测试阶段\n",
    "seeds = random.sample(range(1, 10000), 10)\n",
    "test_losses = []\n",
    "\n",
    "for seed in seeds:\n",
    "    torch.manual_seed(seed)\n",
    "    np.random.seed(seed)\n",
    "    random.seed(seed)\n",
    "    x_test = torch.unsqueeze(torch.linspace(-2, 10, 30), dim=1).to(device)\n",
    "    y_test = np.exp(-(x_test - 2) ** 2) + np.exp(-(x_test - 6) ** 2 / 10) + 1 / (x_test ** 2 + 1) + 0.12 * torch.randn(\n",
    "        x_test.size()).to(device)\n",
    "\n",
    "    net.eval()\n",
    "    with torch.no_grad():\n",
    "        prediction_test = net(x_test)\n",
    "        test_loss = loss_func(prediction_test, y_test)\n",
    "        test_losses.append(test_loss.item())\n",
    "\n",
    "mean_test_loss = np.mean(test_losses)\n",
    "\n",
    "print(\"Best hyperparameter (sigma):\", best_sigma)\n",
    "print(\"Mean Test Loss:\", mean_test_loss)\n",
    "print(\"Mean Train Loss:\", mean_train_loss)"
   ],
   "id": "a09acf098986c037",
   "outputs": [
    {
     "name": "stdout",
     "output_type": "stream",
     "text": [
      "Best hyperparameter (sigma): 5.6566977648877765\n",
      "Mean Test Loss: 0.01891669547185302\n",
      "Mean Train Loss: 0.010154944844543934\n"
     ]
    }
   ],
   "execution_count": 14
  },
  {
   "metadata": {
    "ExecuteTime": {
     "end_time": "2024-10-11T07:43:10.117756Z",
     "start_time": "2024-10-11T07:43:10.101799Z"
    }
   },
   "cell_type": "code",
   "source": [
    "# 将 x_respond 和 mean_response 保存到 CSV 文件\n",
    "x_respond_np = x_respond.numpy()\n",
    "output_data = np.hstack((x_respond_np, mean_response))\n",
    "np.savetxt('C:/Users/Administrator/PycharmProjects/pythonProject/Forest函数激活函数方法（GELU）.csv', output_data, delimiter=',', header='x,mean_response', comments='')"
   ],
   "id": "initial_id",
   "outputs": [],
   "execution_count": 21
  },
  {
   "metadata": {},
   "cell_type": "code",
   "outputs": [],
   "execution_count": null,
   "source": "",
   "id": "2e4c936ead656733"
  }
 ],
 "metadata": {
  "kernelspec": {
   "display_name": "Python 3",
   "language": "python",
   "name": "python3"
  },
  "language_info": {
   "codemirror_mode": {
    "name": "ipython",
    "version": 2
   },
   "file_extension": ".py",
   "mimetype": "text/x-python",
   "name": "python",
   "nbconvert_exporter": "python",
   "pygments_lexer": "ipython2",
   "version": "2.7.6"
  }
 },
 "nbformat": 4,
 "nbformat_minor": 5
}
